{
 "cells": [
  {
   "cell_type": "code",
   "execution_count": 1,
   "metadata": {},
   "outputs": [
    {
     "name": "stderr",
     "output_type": "stream",
     "text": [
      "Using TensorFlow backend.\n"
     ]
    }
   ],
   "source": [
    "from __future__ import print_function\n",
    "import numpy as np\n",
    "from keras.datasets import mnist\n",
    "from keras.models import Sequential\n",
    "from keras.layers.core import Dense, Activation\n",
    "from keras.optimizers import SGD\n",
    "from keras.utils import np_utils"
   ]
  },
  {
   "cell_type": "code",
   "execution_count": 2,
   "metadata": {
    "collapsed": true
   },
   "outputs": [],
   "source": [
    "from keras.layers.core import Dropout"
   ]
  },
  {
   "cell_type": "code",
   "execution_count": 3,
   "metadata": {
    "collapsed": true
   },
   "outputs": [],
   "source": [
    "from keras.optimizers import Adam"
   ]
  },
  {
   "cell_type": "code",
   "execution_count": 25,
   "metadata": {},
   "outputs": [],
   "source": [
    "import matplotlib.pyplot as plt"
   ]
  },
  {
   "cell_type": "code",
   "execution_count": 4,
   "metadata": {
    "collapsed": true,
    "scrolled": true
   },
   "outputs": [],
   "source": [
    "NB_EPOCH = 200\n",
    "BATCH_SIZE = 128\n",
    "VERBOSE = 1\n",
    "NB_CLASSES = 10\n",
    "OPTIMIZER = Adam()#SGD();\n",
    "N_HIDDEN = 128\n",
    "VALIDATION_SPLIT = 0.2\n",
    "DROPOUT = 0.3"
   ]
  },
  {
   "cell_type": "code",
   "execution_count": 5,
   "metadata": {
    "collapsed": true
   },
   "outputs": [],
   "source": [
    "(X_train, Y_train), (X_test, Y_test) = mnist.load_data()"
   ]
  },
  {
   "cell_type": "code",
   "execution_count": 6,
   "metadata": {},
   "outputs": [],
   "source": [
    "import pprint"
   ]
  },
  {
   "cell_type": "code",
   "execution_count": 7,
   "metadata": {},
   "outputs": [],
   "source": [
    "RESHAPED = 784 #X_rain은 60000개의 행으로 구성되고 28*28개의 값을 가진다."
   ]
  },
  {
   "cell_type": "code",
   "execution_count": 8,
   "metadata": {},
   "outputs": [
    {
     "data": {
      "text/plain": [
       "(60000, 28, 28)"
      ]
     },
     "execution_count": 8,
     "metadata": {},
     "output_type": "execute_result"
    }
   ],
   "source": [
    "X_train.shape"
   ]
  },
  {
   "cell_type": "code",
   "execution_count": 9,
   "metadata": {},
   "outputs": [],
   "source": [
    "X_train = X_train.reshape(60000, RESHAPED) #28*28이미지를 784로 변환\n",
    "X_test = X_test.reshape(10000, RESHAPED)\n",
    "X_train = X_train.astype('float32') #이미지의 dtype변환\n",
    "X_test = X_test.astype('float32')"
   ]
  },
  {
   "cell_type": "code",
   "execution_count": 10,
   "metadata": {},
   "outputs": [
    {
     "data": {
      "text/plain": [
       "(60000, 784)"
      ]
     },
     "execution_count": 10,
     "metadata": {},
     "output_type": "execute_result"
    }
   ],
   "source": [
    "X_train.shape"
   ]
  },
  {
   "cell_type": "code",
   "execution_count": 11,
   "metadata": {},
   "outputs": [
    {
     "data": {
      "text/plain": [
       "array([7, 2, 1, ..., 4, 5, 6], dtype=uint8)"
      ]
     },
     "execution_count": 11,
     "metadata": {},
     "output_type": "execute_result"
    }
   ],
   "source": [
    "Y_test #class"
   ]
  },
  {
   "cell_type": "code",
   "execution_count": 12,
   "metadata": {},
   "outputs": [
    {
     "name": "stdout",
     "output_type": "stream",
     "text": [
      "60000 train_samples\n",
      "10000 train_samples\n"
     ]
    }
   ],
   "source": [
    "X_train /= 255\n",
    "X_test /= 255\n",
    "print(X_train.shape[0], 'train_samples')\n",
    "print(X_test.shape[0], 'train_samples')"
   ]
  },
  {
   "cell_type": "code",
   "execution_count": 13,
   "metadata": {},
   "outputs": [],
   "source": [
    "#범주 벡터를 이진 범주 벡터 행렬로 변환\n",
    "Y_train = np_utils.to_categorical(Y_train,NB_CLASSES) # 7 = [0,0,0,0,0,0,1,0,0,0]\n",
    "Y_test = np_utils.to_categorical(Y_test,NB_CLASSES)"
   ]
  },
  {
   "cell_type": "code",
   "execution_count": 14,
   "metadata": {},
   "outputs": [],
   "source": [
    "nn = Sequential()"
   ]
  },
  {
   "cell_type": "code",
   "execution_count": 15,
   "metadata": {},
   "outputs": [
    {
     "name": "stdout",
     "output_type": "stream",
     "text": [
      "_________________________________________________________________\n",
      "Layer (type)                 Output Shape              Param #   \n",
      "=================================================================\n",
      "dense_1 (Dense)              (None, 128)               100480    \n",
      "_________________________________________________________________\n",
      "activation_1 (Activation)    (None, 128)               0         \n",
      "_________________________________________________________________\n",
      "dropout_1 (Dropout)          (None, 128)               0         \n",
      "_________________________________________________________________\n",
      "dense_2 (Dense)              (None, 128)               16512     \n",
      "_________________________________________________________________\n",
      "activation_2 (Activation)    (None, 128)               0         \n",
      "_________________________________________________________________\n",
      "dropout_2 (Dropout)          (None, 128)               0         \n",
      "_________________________________________________________________\n",
      "dense_3 (Dense)              (None, 10)                1290      \n",
      "_________________________________________________________________\n",
      "activation_3 (Activation)    (None, 10)                0         \n",
      "=================================================================\n",
      "Total params: 118,282\n",
      "Trainable params: 118,282\n",
      "Non-trainable params: 0\n",
      "_________________________________________________________________\n"
     ]
    }
   ],
   "source": [
    "nn.add(Dense(N_HIDDEN, input_shape=(RESHAPED,)))\n",
    "nn.add(Activation('relu'))\n",
    "nn.add(Dropout(DROPOUT))\n",
    "nn.add(Dense(N_HIDDEN))\n",
    "nn.add(Activation('relu'))\n",
    "nn.add(Dropout(DROPOUT))\n",
    "nn.add(Dense(NB_CLASSES))\n",
    "nn.add(Activation('softmax'))\n",
    "nn.summary()"
   ]
  },
  {
   "cell_type": "code",
   "execution_count": 16,
   "metadata": {},
   "outputs": [],
   "source": [
    "nn.compile(loss='categorical_crossentropy', optimizer=OPTIMIZER, metrics=['accuracy'])"
   ]
  },
  {
   "cell_type": "code",
   "execution_count": 17,
   "metadata": {},
   "outputs": [
    {
     "name": "stdout",
     "output_type": "stream",
     "text": [
      "Train on 48000 samples, validate on 12000 samples\n",
      "Epoch 1/200\n",
      "48000/48000 [==============================] - 4s - loss: 0.5156 - acc: 0.8422 - val_loss: 0.1929 - val_acc: 0.9431\n",
      "Epoch 2/200\n",
      "48000/48000 [==============================] - 3s - loss: 0.2371 - acc: 0.9292 - val_loss: 0.1520 - val_acc: 0.9556\n",
      "Epoch 3/200\n",
      "48000/48000 [==============================] - 3s - loss: 0.1842 - acc: 0.9452 - val_loss: 0.1193 - val_acc: 0.9648\n",
      "Epoch 4/200\n",
      "48000/48000 [==============================] - 3s - loss: 0.1530 - acc: 0.9541 - val_loss: 0.1042 - val_acc: 0.9687\n",
      "Epoch 5/200\n",
      "48000/48000 [==============================] - 3s - loss: 0.1338 - acc: 0.9591 - val_loss: 0.0980 - val_acc: 0.9727\n",
      "Epoch 6/200\n",
      "48000/48000 [==============================] - 3s - loss: 0.1160 - acc: 0.9639 - val_loss: 0.0935 - val_acc: 0.9723\n",
      "Epoch 7/200\n",
      "48000/48000 [==============================] - 3s - loss: 0.1059 - acc: 0.9683 - val_loss: 0.0865 - val_acc: 0.9745\n",
      "Epoch 8/200\n",
      "48000/48000 [==============================] - 3s - loss: 0.0957 - acc: 0.9703 - val_loss: 0.0854 - val_acc: 0.9757\n",
      "Epoch 9/200\n",
      "48000/48000 [==============================] - 3s - loss: 0.0906 - acc: 0.9716 - val_loss: 0.0853 - val_acc: 0.9747\n",
      "Epoch 10/200\n",
      "48000/48000 [==============================] - 3s - loss: 0.0841 - acc: 0.9735 - val_loss: 0.0805 - val_acc: 0.9765\n",
      "Epoch 11/200\n",
      "48000/48000 [==============================] - 3s - loss: 0.0782 - acc: 0.9753 - val_loss: 0.0876 - val_acc: 0.9756\n",
      "Epoch 12/200\n",
      "48000/48000 [==============================] - 3s - loss: 0.0726 - acc: 0.9762 - val_loss: 0.0825 - val_acc: 0.9767\n",
      "Epoch 13/200\n",
      "48000/48000 [==============================] - 3s - loss: 0.0706 - acc: 0.9775 - val_loss: 0.0803 - val_acc: 0.9778\n",
      "Epoch 14/200\n",
      "48000/48000 [==============================] - 3s - loss: 0.0680 - acc: 0.9777 - val_loss: 0.0751 - val_acc: 0.9787\n",
      "Epoch 15/200\n",
      "48000/48000 [==============================] - 3s - loss: 0.0633 - acc: 0.9798 - val_loss: 0.0788 - val_acc: 0.9790\n",
      "Epoch 16/200\n",
      "48000/48000 [==============================] - 3s - loss: 0.0599 - acc: 0.9799 - val_loss: 0.0815 - val_acc: 0.9775\n",
      "Epoch 17/200\n",
      "48000/48000 [==============================] - 3s - loss: 0.0604 - acc: 0.9801 - val_loss: 0.0794 - val_acc: 0.9795\n",
      "Epoch 18/200\n",
      "48000/48000 [==============================] - 3s - loss: 0.0598 - acc: 0.9804 - val_loss: 0.0813 - val_acc: 0.9784\n",
      "Epoch 19/200\n",
      "48000/48000 [==============================] - 3s - loss: 0.0554 - acc: 0.9819 - val_loss: 0.0839 - val_acc: 0.9800\n",
      "Epoch 20/200\n",
      "48000/48000 [==============================] - 3s - loss: 0.0517 - acc: 0.9834 - val_loss: 0.0878 - val_acc: 0.9769\n",
      "Epoch 21/200\n",
      "48000/48000 [==============================] - 3s - loss: 0.0512 - acc: 0.9829 - val_loss: 0.0794 - val_acc: 0.9790\n",
      "Epoch 22/200\n",
      "48000/48000 [==============================] - 3s - loss: 0.0512 - acc: 0.9834 - val_loss: 0.0836 - val_acc: 0.9780\n",
      "Epoch 23/200\n",
      "48000/48000 [==============================] - 3s - loss: 0.0485 - acc: 0.9835 - val_loss: 0.0810 - val_acc: 0.9793\n",
      "Epoch 24/200\n",
      "48000/48000 [==============================] - 3s - loss: 0.0474 - acc: 0.9844 - val_loss: 0.0832 - val_acc: 0.9782\n",
      "Epoch 25/200\n",
      "48000/48000 [==============================] - 3s - loss: 0.0462 - acc: 0.9843 - val_loss: 0.0822 - val_acc: 0.9803\n",
      "Epoch 26/200\n",
      "48000/48000 [==============================] - 3s - loss: 0.0430 - acc: 0.9854 - val_loss: 0.0839 - val_acc: 0.9799\n",
      "Epoch 27/200\n",
      "48000/48000 [==============================] - 3s - loss: 0.0431 - acc: 0.9859 - val_loss: 0.0832 - val_acc: 0.9802\n",
      "Epoch 28/200\n",
      "48000/48000 [==============================] - 3s - loss: 0.0437 - acc: 0.9851 - val_loss: 0.0772 - val_acc: 0.9809\n",
      "Epoch 29/200\n",
      "48000/48000 [==============================] - 3s - loss: 0.0435 - acc: 0.9859 - val_loss: 0.0826 - val_acc: 0.9794\n",
      "Epoch 30/200\n",
      "48000/48000 [==============================] - 3s - loss: 0.0415 - acc: 0.9862 - val_loss: 0.0815 - val_acc: 0.9796\n",
      "Epoch 31/200\n",
      "48000/48000 [==============================] - 3s - loss: 0.0420 - acc: 0.9857 - val_loss: 0.0790 - val_acc: 0.9808\n",
      "Epoch 32/200\n",
      "48000/48000 [==============================] - 3s - loss: 0.0406 - acc: 0.9861 - val_loss: 0.0890 - val_acc: 0.9776\n",
      "Epoch 33/200\n",
      "48000/48000 [==============================] - 3s - loss: 0.0377 - acc: 0.9867 - val_loss: 0.0883 - val_acc: 0.9785\n",
      "Epoch 34/200\n",
      "48000/48000 [==============================] - 3s - loss: 0.0397 - acc: 0.9871 - val_loss: 0.0821 - val_acc: 0.9795\n",
      "Epoch 35/200\n",
      "48000/48000 [==============================] - 3s - loss: 0.0377 - acc: 0.9875 - val_loss: 0.0847 - val_acc: 0.9807\n",
      "Epoch 36/200\n",
      "48000/48000 [==============================] - 3s - loss: 0.0381 - acc: 0.9875 - val_loss: 0.0875 - val_acc: 0.9798\n",
      "Epoch 37/200\n",
      "48000/48000 [==============================] - 3s - loss: 0.0399 - acc: 0.9866 - val_loss: 0.0791 - val_acc: 0.9807\n",
      "Epoch 38/200\n",
      "48000/48000 [==============================] - 3s - loss: 0.0378 - acc: 0.9875 - val_loss: 0.0828 - val_acc: 0.9817\n",
      "Epoch 39/200\n",
      "48000/48000 [==============================] - 3s - loss: 0.0340 - acc: 0.9887 - val_loss: 0.0877 - val_acc: 0.9791\n",
      "Epoch 40/200\n",
      "48000/48000 [==============================] - 3s - loss: 0.0356 - acc: 0.9882 - val_loss: 0.0880 - val_acc: 0.9792\n",
      "Epoch 41/200\n",
      "48000/48000 [==============================] - 3s - loss: 0.0332 - acc: 0.9890 - val_loss: 0.0843 - val_acc: 0.9799\n",
      "Epoch 42/200\n",
      "48000/48000 [==============================] - 4s - loss: 0.0333 - acc: 0.9887 - val_loss: 0.0832 - val_acc: 0.9802\n",
      "Epoch 43/200\n",
      "48000/48000 [==============================] - 3s - loss: 0.0343 - acc: 0.9887 - val_loss: 0.0821 - val_acc: 0.9804\n",
      "Epoch 44/200\n",
      "48000/48000 [==============================] - 3s - loss: 0.0351 - acc: 0.9883 - val_loss: 0.0834 - val_acc: 0.9804\n",
      "Epoch 45/200\n",
      "48000/48000 [==============================] - 4s - loss: 0.0333 - acc: 0.9891 - val_loss: 0.0852 - val_acc: 0.9804\n",
      "Epoch 46/200\n",
      "48000/48000 [==============================] - 4s - loss: 0.0321 - acc: 0.9896 - val_loss: 0.0857 - val_acc: 0.9799\n",
      "Epoch 47/200\n",
      "48000/48000 [==============================] - 3s - loss: 0.0340 - acc: 0.9887 - val_loss: 0.0882 - val_acc: 0.9789\n",
      "Epoch 48/200\n",
      "48000/48000 [==============================] - 3s - loss: 0.0320 - acc: 0.9893 - val_loss: 0.0858 - val_acc: 0.9811\n",
      "Epoch 49/200\n",
      "48000/48000 [==============================] - 3s - loss: 0.0327 - acc: 0.9889 - val_loss: 0.0942 - val_acc: 0.9790\n",
      "Epoch 50/200\n",
      "48000/48000 [==============================] - 3s - loss: 0.0329 - acc: 0.9891 - val_loss: 0.0851 - val_acc: 0.9798\n",
      "Epoch 51/200\n",
      "48000/48000 [==============================] - 3s - loss: 0.0290 - acc: 0.9902 - val_loss: 0.0868 - val_acc: 0.9805\n",
      "Epoch 52/200\n",
      "48000/48000 [==============================] - 3s - loss: 0.0298 - acc: 0.9905 - val_loss: 0.0868 - val_acc: 0.9799\n",
      "Epoch 53/200\n",
      "48000/48000 [==============================] - 3s - loss: 0.0325 - acc: 0.9892 - val_loss: 0.0897 - val_acc: 0.9796\n",
      "Epoch 54/200\n",
      "48000/48000 [==============================] - 3s - loss: 0.0323 - acc: 0.9896 - val_loss: 0.0856 - val_acc: 0.9807\n",
      "Epoch 55/200\n",
      "48000/48000 [==============================] - 3s - loss: 0.0289 - acc: 0.9908 - val_loss: 0.0919 - val_acc: 0.9801\n",
      "Epoch 56/200\n",
      "48000/48000 [==============================] - 3s - loss: 0.0296 - acc: 0.9905 - val_loss: 0.0919 - val_acc: 0.9797\n",
      "Epoch 57/200\n",
      "48000/48000 [==============================] - 3s - loss: 0.0313 - acc: 0.9898 - val_loss: 0.0916 - val_acc: 0.9795\n",
      "Epoch 58/200\n",
      "48000/48000 [==============================] - 3s - loss: 0.0316 - acc: 0.9893 - val_loss: 0.0922 - val_acc: 0.9801\n",
      "Epoch 59/200\n",
      "48000/48000 [==============================] - 3s - loss: 0.0264 - acc: 0.9912 - val_loss: 0.0885 - val_acc: 0.9805\n",
      "Epoch 60/200\n",
      "48000/48000 [==============================] - 3s - loss: 0.0288 - acc: 0.9911 - val_loss: 0.0878 - val_acc: 0.9804\n",
      "Epoch 61/200\n",
      "48000/48000 [==============================] - 3s - loss: 0.0265 - acc: 0.9914 - val_loss: 0.0911 - val_acc: 0.9806\n",
      "Epoch 62/200\n",
      "48000/48000 [==============================] - 3s - loss: 0.0282 - acc: 0.9908 - val_loss: 0.0921 - val_acc: 0.9800\n",
      "Epoch 63/200\n",
      "48000/48000 [==============================] - 3s - loss: 0.0260 - acc: 0.9912 - val_loss: 0.0949 - val_acc: 0.9807\n",
      "Epoch 64/200\n"
     ]
    },
    {
     "name": "stdout",
     "output_type": "stream",
     "text": [
      "48000/48000 [==============================] - 3s - loss: 0.0293 - acc: 0.9905 - val_loss: 0.0951 - val_acc: 0.9805\n",
      "Epoch 65/200\n",
      "48000/48000 [==============================] - 3s - loss: 0.0287 - acc: 0.9906 - val_loss: 0.0842 - val_acc: 0.9822\n",
      "Epoch 66/200\n",
      "48000/48000 [==============================] - 3s - loss: 0.0246 - acc: 0.9917 - val_loss: 0.0980 - val_acc: 0.9802\n",
      "Epoch 67/200\n",
      "48000/48000 [==============================] - 3s - loss: 0.0274 - acc: 0.9909 - val_loss: 0.0872 - val_acc: 0.9810\n",
      "Epoch 68/200\n",
      "48000/48000 [==============================] - 3s - loss: 0.0284 - acc: 0.9906 - val_loss: 0.0930 - val_acc: 0.9815\n",
      "Epoch 69/200\n",
      "48000/48000 [==============================] - 3s - loss: 0.0269 - acc: 0.9911 - val_loss: 0.0925 - val_acc: 0.9818\n",
      "Epoch 70/200\n",
      "48000/48000 [==============================] - 3s - loss: 0.0261 - acc: 0.9918 - val_loss: 0.1003 - val_acc: 0.9807\n",
      "Epoch 71/200\n",
      "48000/48000 [==============================] - 3s - loss: 0.0272 - acc: 0.9908 - val_loss: 0.0943 - val_acc: 0.9807\n",
      "Epoch 72/200\n",
      "48000/48000 [==============================] - 3s - loss: 0.0259 - acc: 0.9914 - val_loss: 0.0890 - val_acc: 0.9810\n",
      "Epoch 73/200\n",
      "48000/48000 [==============================] - 3s - loss: 0.0247 - acc: 0.9917 - val_loss: 0.0959 - val_acc: 0.9807\n",
      "Epoch 74/200\n",
      "48000/48000 [==============================] - 3s - loss: 0.0255 - acc: 0.9915 - val_loss: 0.0942 - val_acc: 0.9809\n",
      "Epoch 75/200\n",
      "48000/48000 [==============================] - 3s - loss: 0.0266 - acc: 0.9912 - val_loss: 0.0909 - val_acc: 0.9812\n",
      "Epoch 76/200\n",
      "48000/48000 [==============================] - 3s - loss: 0.0248 - acc: 0.9917 - val_loss: 0.0918 - val_acc: 0.9818\n",
      "Epoch 77/200\n",
      "48000/48000 [==============================] - 3s - loss: 0.0254 - acc: 0.9912 - val_loss: 0.0978 - val_acc: 0.9810\n",
      "Epoch 78/200\n",
      "48000/48000 [==============================] - 3s - loss: 0.0259 - acc: 0.9918 - val_loss: 0.0968 - val_acc: 0.9800\n",
      "Epoch 79/200\n",
      "48000/48000 [==============================] - 3s - loss: 0.0239 - acc: 0.9919 - val_loss: 0.1000 - val_acc: 0.9790\n",
      "Epoch 80/200\n",
      "48000/48000 [==============================] - 3s - loss: 0.0227 - acc: 0.9926 - val_loss: 0.1092 - val_acc: 0.9796\n",
      "Epoch 81/200\n",
      "48000/48000 [==============================] - 3s - loss: 0.0251 - acc: 0.9917 - val_loss: 0.0993 - val_acc: 0.9806\n",
      "Epoch 82/200\n",
      "48000/48000 [==============================] - 3s - loss: 0.0253 - acc: 0.9918 - val_loss: 0.0954 - val_acc: 0.9808\n",
      "Epoch 83/200\n",
      "48000/48000 [==============================] - 3s - loss: 0.0265 - acc: 0.9915 - val_loss: 0.0960 - val_acc: 0.9811\n",
      "Epoch 84/200\n",
      "48000/48000 [==============================] - 3s - loss: 0.0252 - acc: 0.9918 - val_loss: 0.0944 - val_acc: 0.9796\n",
      "Epoch 85/200\n",
      "48000/48000 [==============================] - 3s - loss: 0.0243 - acc: 0.9922 - val_loss: 0.1003 - val_acc: 0.9800\n",
      "Epoch 86/200\n",
      "48000/48000 [==============================] - 3s - loss: 0.0233 - acc: 0.9927 - val_loss: 0.0972 - val_acc: 0.9804\n",
      "Epoch 87/200\n",
      "48000/48000 [==============================] - 3s - loss: 0.0216 - acc: 0.9931 - val_loss: 0.0978 - val_acc: 0.9800\n",
      "Epoch 88/200\n",
      "48000/48000 [==============================] - 3s - loss: 0.0219 - acc: 0.9930 - val_loss: 0.0977 - val_acc: 0.9804\n",
      "Epoch 89/200\n",
      "48000/48000 [==============================] - 3s - loss: 0.0223 - acc: 0.9930 - val_loss: 0.0911 - val_acc: 0.9807\n",
      "Epoch 90/200\n",
      "48000/48000 [==============================] - 3s - loss: 0.0231 - acc: 0.9924 - val_loss: 0.1009 - val_acc: 0.9799\n",
      "Epoch 91/200\n",
      "48000/48000 [==============================] - 3s - loss: 0.0264 - acc: 0.9914 - val_loss: 0.0952 - val_acc: 0.9813\n",
      "Epoch 92/200\n",
      "48000/48000 [==============================] - 3s - loss: 0.0228 - acc: 0.9924 - val_loss: 0.0950 - val_acc: 0.9806\n",
      "Epoch 93/200\n",
      "48000/48000 [==============================] - 3s - loss: 0.0234 - acc: 0.9923 - val_loss: 0.0939 - val_acc: 0.9813\n",
      "Epoch 94/200\n",
      "48000/48000 [==============================] - 3s - loss: 0.0201 - acc: 0.9931 - val_loss: 0.0935 - val_acc: 0.9803\n",
      "Epoch 95/200\n",
      "48000/48000 [==============================] - 3s - loss: 0.0221 - acc: 0.9928 - val_loss: 0.0977 - val_acc: 0.9804\n",
      "Epoch 96/200\n",
      "48000/48000 [==============================] - 3s - loss: 0.0232 - acc: 0.9922 - val_loss: 0.0938 - val_acc: 0.9817\n",
      "Epoch 97/200\n",
      "48000/48000 [==============================] - 3s - loss: 0.0226 - acc: 0.9931 - val_loss: 0.0940 - val_acc: 0.9807\n",
      "Epoch 98/200\n",
      "48000/48000 [==============================] - 3s - loss: 0.0243 - acc: 0.9918 - val_loss: 0.0965 - val_acc: 0.9803\n",
      "Epoch 99/200\n",
      "48000/48000 [==============================] - 3s - loss: 0.0227 - acc: 0.9928 - val_loss: 0.0936 - val_acc: 0.9799\n",
      "Epoch 100/200\n",
      "48000/48000 [==============================] - 3s - loss: 0.0207 - acc: 0.9930 - val_loss: 0.0934 - val_acc: 0.9826\n",
      "Epoch 101/200\n",
      "48000/48000 [==============================] - 3s - loss: 0.0219 - acc: 0.9929 - val_loss: 0.1001 - val_acc: 0.9797\n",
      "Epoch 102/200\n",
      "48000/48000 [==============================] - 3s - loss: 0.0238 - acc: 0.9923 - val_loss: 0.0933 - val_acc: 0.9812\n",
      "Epoch 103/200\n",
      "48000/48000 [==============================] - 3s - loss: 0.0227 - acc: 0.9928 - val_loss: 0.0926 - val_acc: 0.9810\n",
      "Epoch 104/200\n",
      "48000/48000 [==============================] - 3s - loss: 0.0212 - acc: 0.9932 - val_loss: 0.1002 - val_acc: 0.9802\n",
      "Epoch 105/200\n",
      "48000/48000 [==============================] - 3s - loss: 0.0196 - acc: 0.9933 - val_loss: 0.1016 - val_acc: 0.9804\n",
      "Epoch 106/200\n",
      "48000/48000 [==============================] - 3s - loss: 0.0204 - acc: 0.9931 - val_loss: 0.0962 - val_acc: 0.9801\n",
      "Epoch 107/200\n",
      "48000/48000 [==============================] - 3s - loss: 0.0207 - acc: 0.9937 - val_loss: 0.0927 - val_acc: 0.9807\n",
      "Epoch 108/200\n",
      "48000/48000 [==============================] - 3s - loss: 0.0202 - acc: 0.9935 - val_loss: 0.0939 - val_acc: 0.9814\n",
      "Epoch 109/200\n",
      "48000/48000 [==============================] - 4s - loss: 0.0218 - acc: 0.9928 - val_loss: 0.0958 - val_acc: 0.9820\n",
      "Epoch 110/200\n",
      "48000/48000 [==============================] - 3s - loss: 0.0204 - acc: 0.9934 - val_loss: 0.0947 - val_acc: 0.9809\n",
      "Epoch 111/200\n",
      "48000/48000 [==============================] - 3s - loss: 0.0207 - acc: 0.9932 - val_loss: 0.0992 - val_acc: 0.9796\n",
      "Epoch 112/200\n",
      "48000/48000 [==============================] - 3s - loss: 0.0203 - acc: 0.9935 - val_loss: 0.1007 - val_acc: 0.9810\n",
      "Epoch 113/200\n",
      "48000/48000 [==============================] - 3s - loss: 0.0204 - acc: 0.9935 - val_loss: 0.1027 - val_acc: 0.9811\n",
      "Epoch 114/200\n",
      "48000/48000 [==============================] - 3s - loss: 0.0217 - acc: 0.9929 - val_loss: 0.0973 - val_acc: 0.9807\n",
      "Epoch 115/200\n",
      "48000/48000 [==============================] - 3s - loss: 0.0210 - acc: 0.9932 - val_loss: 0.0965 - val_acc: 0.9807\n",
      "Epoch 116/200\n",
      "48000/48000 [==============================] - 4s - loss: 0.0203 - acc: 0.9936 - val_loss: 0.1023 - val_acc: 0.9801\n",
      "Epoch 117/200\n",
      "48000/48000 [==============================] - 3s - loss: 0.0211 - acc: 0.9930 - val_loss: 0.0975 - val_acc: 0.9807\n",
      "Epoch 118/200\n",
      "48000/48000 [==============================] - 3s - loss: 0.0202 - acc: 0.9936 - val_loss: 0.0966 - val_acc: 0.9823\n",
      "Epoch 119/200\n",
      "48000/48000 [==============================] - 3s - loss: 0.0195 - acc: 0.9938 - val_loss: 0.1018 - val_acc: 0.9801\n",
      "Epoch 120/200\n",
      "48000/48000 [==============================] - 3s - loss: 0.0208 - acc: 0.9933 - val_loss: 0.1048 - val_acc: 0.9802\n",
      "Epoch 121/200\n",
      "48000/48000 [==============================] - 3s - loss: 0.0234 - acc: 0.9928 - val_loss: 0.0983 - val_acc: 0.9811\n",
      "Epoch 122/200\n",
      "48000/48000 [==============================] - 3s - loss: 0.0196 - acc: 0.9935 - val_loss: 0.1125 - val_acc: 0.9798\n",
      "Epoch 123/200\n",
      "48000/48000 [==============================] - 3s - loss: 0.0197 - acc: 0.9932 - val_loss: 0.0963 - val_acc: 0.9819\n",
      "Epoch 124/200\n",
      "48000/48000 [==============================] - 2s - loss: 0.0222 - acc: 0.9929 - val_loss: 0.1016 - val_acc: 0.9798\n",
      "Epoch 125/200\n",
      "48000/48000 [==============================] - 2s - loss: 0.0200 - acc: 0.9934 - val_loss: 0.0984 - val_acc: 0.9814\n",
      "Epoch 126/200\n",
      "48000/48000 [==============================] - 3s - loss: 0.0228 - acc: 0.9926 - val_loss: 0.0994 - val_acc: 0.9800\n",
      "Epoch 127/200\n"
     ]
    },
    {
     "name": "stdout",
     "output_type": "stream",
     "text": [
      "48000/48000 [==============================] - 3s - loss: 0.0184 - acc: 0.9940 - val_loss: 0.1020 - val_acc: 0.9818\n",
      "Epoch 128/200\n",
      "48000/48000 [==============================] - 2s - loss: 0.0197 - acc: 0.9939 - val_loss: 0.1034 - val_acc: 0.9802\n",
      "Epoch 129/200\n",
      "48000/48000 [==============================] - 2s - loss: 0.0202 - acc: 0.9934 - val_loss: 0.1046 - val_acc: 0.9798\n",
      "Epoch 130/200\n",
      "48000/48000 [==============================] - 2s - loss: 0.0204 - acc: 0.9935 - val_loss: 0.1058 - val_acc: 0.9804\n",
      "Epoch 131/200\n",
      "48000/48000 [==============================] - 3s - loss: 0.0213 - acc: 0.9936 - val_loss: 0.1024 - val_acc: 0.9800\n",
      "Epoch 132/200\n",
      "48000/48000 [==============================] - 3s - loss: 0.0204 - acc: 0.9931 - val_loss: 0.1007 - val_acc: 0.9817\n",
      "Epoch 133/200\n",
      "48000/48000 [==============================] - 3s - loss: 0.0198 - acc: 0.9935 - val_loss: 0.1036 - val_acc: 0.9808\n",
      "Epoch 134/200\n",
      "48000/48000 [==============================] - 2s - loss: 0.0197 - acc: 0.9935 - val_loss: 0.1046 - val_acc: 0.9798\n",
      "Epoch 135/200\n",
      "48000/48000 [==============================] - 3s - loss: 0.0188 - acc: 0.9938 - val_loss: 0.1037 - val_acc: 0.9808\n",
      "Epoch 136/200\n",
      "48000/48000 [==============================] - 3s - loss: 0.0184 - acc: 0.9942 - val_loss: 0.1053 - val_acc: 0.9803\n",
      "Epoch 137/200\n",
      "48000/48000 [==============================] - 3s - loss: 0.0195 - acc: 0.9937 - val_loss: 0.1067 - val_acc: 0.9803\n",
      "Epoch 138/200\n",
      "48000/48000 [==============================] - 3s - loss: 0.0223 - acc: 0.9930 - val_loss: 0.1006 - val_acc: 0.9803\n",
      "Epoch 139/200\n",
      "48000/48000 [==============================] - 2s - loss: 0.0192 - acc: 0.9936 - val_loss: 0.1052 - val_acc: 0.9803\n",
      "Epoch 140/200\n",
      "48000/48000 [==============================] - 2s - loss: 0.0196 - acc: 0.9938 - val_loss: 0.1077 - val_acc: 0.9802\n",
      "Epoch 141/200\n",
      "48000/48000 [==============================] - 3s - loss: 0.0202 - acc: 0.9938 - val_loss: 0.0986 - val_acc: 0.9805\n",
      "Epoch 142/200\n",
      "48000/48000 [==============================] - 3s - loss: 0.0176 - acc: 0.9941 - val_loss: 0.1036 - val_acc: 0.9808\n",
      "Epoch 143/200\n",
      "48000/48000 [==============================] - 3s - loss: 0.0190 - acc: 0.9939 - val_loss: 0.1046 - val_acc: 0.9802\n",
      "Epoch 144/200\n",
      "48000/48000 [==============================] - 2s - loss: 0.0179 - acc: 0.9945 - val_loss: 0.1084 - val_acc: 0.9800\n",
      "Epoch 145/200\n",
      "48000/48000 [==============================] - 2s - loss: 0.0183 - acc: 0.9940 - val_loss: 0.1055 - val_acc: 0.9798\n",
      "Epoch 146/200\n",
      "48000/48000 [==============================] - 3s - loss: 0.0191 - acc: 0.9936 - val_loss: 0.1089 - val_acc: 0.9798\n",
      "Epoch 147/200\n",
      "48000/48000 [==============================] - 3s - loss: 0.0198 - acc: 0.9934 - val_loss: 0.1122 - val_acc: 0.9800\n",
      "Epoch 148/200\n",
      "48000/48000 [==============================] - 3s - loss: 0.0200 - acc: 0.9937 - val_loss: 0.1092 - val_acc: 0.9795\n",
      "Epoch 149/200\n",
      "48000/48000 [==============================] - 2s - loss: 0.0185 - acc: 0.9943 - val_loss: 0.1086 - val_acc: 0.9807\n",
      "Epoch 150/200\n",
      "48000/48000 [==============================] - 2s - loss: 0.0183 - acc: 0.9941 - val_loss: 0.1089 - val_acc: 0.9804\n",
      "Epoch 151/200\n",
      "48000/48000 [==============================] - 2s - loss: 0.0190 - acc: 0.9938 - val_loss: 0.1055 - val_acc: 0.9816\n",
      "Epoch 152/200\n",
      "48000/48000 [==============================] - 3s - loss: 0.0164 - acc: 0.9946 - val_loss: 0.1082 - val_acc: 0.9811\n",
      "Epoch 153/200\n",
      "48000/48000 [==============================] - 3s - loss: 0.0186 - acc: 0.9938 - val_loss: 0.1042 - val_acc: 0.9818\n",
      "Epoch 154/200\n",
      "48000/48000 [==============================] - 2s - loss: 0.0191 - acc: 0.9935 - val_loss: 0.1038 - val_acc: 0.9809\n",
      "Epoch 155/200\n",
      "48000/48000 [==============================] - 2s - loss: 0.0175 - acc: 0.9940 - val_loss: 0.1061 - val_acc: 0.9804\n",
      "Epoch 156/200\n",
      "48000/48000 [==============================] - 2s - loss: 0.0161 - acc: 0.9946 - val_loss: 0.1127 - val_acc: 0.9805\n",
      "Epoch 157/200\n",
      "48000/48000 [==============================] - 3s - loss: 0.0168 - acc: 0.9946 - val_loss: 0.1137 - val_acc: 0.9798\n",
      "Epoch 158/200\n",
      "48000/48000 [==============================] - 3s - loss: 0.0212 - acc: 0.9932 - val_loss: 0.1054 - val_acc: 0.9811\n",
      "Epoch 159/200\n",
      "48000/48000 [==============================] - 3s - loss: 0.0182 - acc: 0.9943 - val_loss: 0.1047 - val_acc: 0.9820\n",
      "Epoch 160/200\n",
      "48000/48000 [==============================] - 2s - loss: 0.0188 - acc: 0.9942 - val_loss: 0.1055 - val_acc: 0.9799\n",
      "Epoch 161/200\n",
      "48000/48000 [==============================] - 2s - loss: 0.0174 - acc: 0.9947 - val_loss: 0.1119 - val_acc: 0.9798\n",
      "Epoch 162/200\n",
      "48000/48000 [==============================] - 3s - loss: 0.0160 - acc: 0.9951 - val_loss: 0.1097 - val_acc: 0.9808\n",
      "Epoch 163/200\n",
      "48000/48000 [==============================] - 3s - loss: 0.0178 - acc: 0.9943 - val_loss: 0.1075 - val_acc: 0.9800\n",
      "Epoch 164/200\n",
      "48000/48000 [==============================] - 3s - loss: 0.0175 - acc: 0.9944 - val_loss: 0.1056 - val_acc: 0.9816\n",
      "Epoch 165/200\n",
      "48000/48000 [==============================] - 2s - loss: 0.0188 - acc: 0.9940 - val_loss: 0.1088 - val_acc: 0.9811\n",
      "Epoch 166/200\n",
      "48000/48000 [==============================] - 2s - loss: 0.0170 - acc: 0.9944 - val_loss: 0.1143 - val_acc: 0.9797\n",
      "Epoch 167/200\n",
      "48000/48000 [==============================] - 3s - loss: 0.0172 - acc: 0.9945 - val_loss: 0.1117 - val_acc: 0.9813\n",
      "Epoch 168/200\n",
      "48000/48000 [==============================] - 3s - loss: 0.0181 - acc: 0.9937 - val_loss: 0.1105 - val_acc: 0.9803\n",
      "Epoch 169/200\n",
      "48000/48000 [==============================] - 3s - loss: 0.0166 - acc: 0.9948 - val_loss: 0.1087 - val_acc: 0.9825\n",
      "Epoch 170/200\n",
      "48000/48000 [==============================] - 2s - loss: 0.0164 - acc: 0.9950 - val_loss: 0.1153 - val_acc: 0.9813\n",
      "Epoch 171/200\n",
      "48000/48000 [==============================] - 2s - loss: 0.0197 - acc: 0.9937 - val_loss: 0.1120 - val_acc: 0.9802\n",
      "Epoch 172/200\n",
      "48000/48000 [==============================] - 3s - loss: 0.0166 - acc: 0.9943 - val_loss: 0.1114 - val_acc: 0.9812\n",
      "Epoch 173/200\n",
      "48000/48000 [==============================] - 3s - loss: 0.0161 - acc: 0.9948 - val_loss: 0.1050 - val_acc: 0.9816\n",
      "Epoch 174/200\n",
      "48000/48000 [==============================] - 3s - loss: 0.0171 - acc: 0.9946 - val_loss: 0.1073 - val_acc: 0.9817\n",
      "Epoch 175/200\n",
      "48000/48000 [==============================] - 2s - loss: 0.0172 - acc: 0.9947 - val_loss: 0.1179 - val_acc: 0.9803\n",
      "Epoch 176/200\n",
      "48000/48000 [==============================] - 2s - loss: 0.0185 - acc: 0.9945 - val_loss: 0.1185 - val_acc: 0.9802\n",
      "Epoch 177/200\n",
      "48000/48000 [==============================] - 2s - loss: 0.0176 - acc: 0.9946 - val_loss: 0.1079 - val_acc: 0.9804\n",
      "Epoch 178/200\n",
      "48000/48000 [==============================] - 3s - loss: 0.0203 - acc: 0.9934 - val_loss: 0.1100 - val_acc: 0.9808\n",
      "Epoch 179/200\n",
      "48000/48000 [==============================] - 3s - loss: 0.0168 - acc: 0.9947 - val_loss: 0.1054 - val_acc: 0.9812\n",
      "Epoch 180/200\n",
      "48000/48000 [==============================] - 3s - loss: 0.0150 - acc: 0.9952 - val_loss: 0.1166 - val_acc: 0.9789\n",
      "Epoch 181/200\n",
      "48000/48000 [==============================] - 3s - loss: 0.0186 - acc: 0.9942 - val_loss: 0.1075 - val_acc: 0.9803\n",
      "Epoch 182/200\n",
      "48000/48000 [==============================] - 3s - loss: 0.0178 - acc: 0.9949 - val_loss: 0.1142 - val_acc: 0.9798\n",
      "Epoch 183/200\n",
      "48000/48000 [==============================] - 3s - loss: 0.0159 - acc: 0.9947 - val_loss: 0.1116 - val_acc: 0.9799\n",
      "Epoch 184/200\n",
      "48000/48000 [==============================] - 3s - loss: 0.0189 - acc: 0.9943 - val_loss: 0.1165 - val_acc: 0.9791\n",
      "Epoch 185/200\n",
      "48000/48000 [==============================] - 3s - loss: 0.0168 - acc: 0.9946 - val_loss: 0.1201 - val_acc: 0.9800\n",
      "Epoch 186/200\n",
      "48000/48000 [==============================] - 2s - loss: 0.0162 - acc: 0.9947 - val_loss: 0.1207 - val_acc: 0.9790\n",
      "Epoch 187/200\n",
      "48000/48000 [==============================] - 3s - loss: 0.0159 - acc: 0.9947 - val_loss: 0.1162 - val_acc: 0.9798\n",
      "Epoch 188/200\n",
      "48000/48000 [==============================] - 3s - loss: 0.0168 - acc: 0.9950 - val_loss: 0.1121 - val_acc: 0.9800\n",
      "Epoch 189/200\n",
      "48000/48000 [==============================] - 3s - loss: 0.0181 - acc: 0.9942 - val_loss: 0.1132 - val_acc: 0.9807\n",
      "Epoch 190/200\n"
     ]
    },
    {
     "name": "stdout",
     "output_type": "stream",
     "text": [
      "48000/48000 [==============================] - 2s - loss: 0.0175 - acc: 0.9948 - val_loss: 0.1115 - val_acc: 0.9802\n",
      "Epoch 191/200\n",
      "48000/48000 [==============================] - 2s - loss: 0.0161 - acc: 0.9945 - val_loss: 0.1154 - val_acc: 0.9807\n",
      "Epoch 192/200\n",
      "48000/48000 [==============================] - 2s - loss: 0.0164 - acc: 0.9949 - val_loss: 0.1212 - val_acc: 0.9773\n",
      "Epoch 193/200\n",
      "48000/48000 [==============================] - 3s - loss: 0.0175 - acc: 0.9945 - val_loss: 0.1127 - val_acc: 0.9800\n",
      "Epoch 194/200\n",
      "48000/48000 [==============================] - 3s - loss: 0.0168 - acc: 0.9948 - val_loss: 0.1089 - val_acc: 0.9803\n",
      "Epoch 195/200\n",
      "48000/48000 [==============================] - 3s - loss: 0.0196 - acc: 0.9943 - val_loss: 0.1116 - val_acc: 0.9808\n",
      "Epoch 196/200\n",
      "48000/48000 [==============================] - 2s - loss: 0.0172 - acc: 0.9946 - val_loss: 0.1104 - val_acc: 0.9806\n",
      "Epoch 197/200\n",
      "48000/48000 [==============================] - 3s - loss: 0.0171 - acc: 0.9945 - val_loss: 0.1142 - val_acc: 0.9793\n",
      "Epoch 198/200\n",
      "48000/48000 [==============================] - 3s - loss: 0.0157 - acc: 0.9948 - val_loss: 0.1117 - val_acc: 0.9798\n",
      "Epoch 199/200\n",
      "48000/48000 [==============================] - 3s - loss: 0.0160 - acc: 0.9951 - val_loss: 0.1142 - val_acc: 0.9809\n",
      "Epoch 200/200\n",
      "48000/48000 [==============================] - 3s - loss: 0.0164 - acc: 0.9949 - val_loss: 0.1140 - val_acc: 0.9801\n"
     ]
    }
   ],
   "source": [
    "history = nn.fit(X_train,Y_train, batch_size=BATCH_SIZE, epochs=NB_EPOCH, verbose=VERBOSE, validation_split=VALIDATION_SPLIT)"
   ]
  },
  {
   "cell_type": "code",
   "execution_count": 18,
   "metadata": {},
   "outputs": [
    {
     "data": {
      "text/plain": [
       "((60000, 10), (60000, 784))"
      ]
     },
     "execution_count": 18,
     "metadata": {},
     "output_type": "execute_result"
    }
   ],
   "source": [
    "Y_train.shape, X_train.shape"
   ]
  },
  {
   "cell_type": "code",
   "execution_count": 19,
   "metadata": {},
   "outputs": [
    {
     "name": "stdout",
     "output_type": "stream",
     "text": [
      " 9536/10000 [===========================>..] - ETA: 0s"
     ]
    }
   ],
   "source": [
    "score = nn.evaluate(X_test, Y_test, verbose=VERBOSE)"
   ]
  },
  {
   "cell_type": "code",
   "execution_count": 22,
   "metadata": {},
   "outputs": [
    {
     "name": "stdout",
     "output_type": "stream",
     "text": [
      "\n",
      "Test score :  0.124331078761\n",
      "Test accuracy :  0.9786\n"
     ]
    }
   ],
   "source": [
    "print(\"\\nTest score : \",score[0])\n",
    "print(\"Test accuracy : \",score[1])"
   ]
  },
  {
   "cell_type": "code",
   "execution_count": 23,
   "metadata": {},
   "outputs": [
    {
     "name": "stdout",
     "output_type": "stream",
     "text": [
      "dict_keys(['val_loss', 'val_acc', 'loss', 'acc'])\n"
     ]
    }
   ],
   "source": [
    "print(history.history.keys())"
   ]
  },
  {
   "cell_type": "code",
   "execution_count": 30,
   "metadata": {},
   "outputs": [
    {
     "data": {
      "image/png": "[encoded data removed]",
      "text/plain": [
       "<matplotlib.figure.Figure at 0x1bb32bf6b00>"
      ]
     },
     "metadata": {},
     "output_type": "display_data"
    }
   ],
   "source": [
    "plt.plot(history.history['acc'])\n",
    "plt.plot(history.history['val_acc'])\n",
    "plt.title('model accurancy')\n",
    "plt.ylabel('accuracy')\n",
    "plt.xlabel('epoch')\n",
    "plt.legend(['train', 'test'], loc='upper left')\n",
    "fig = plt.gcf() #show 전에 해야한다.\n",
    "plt.show()"
   ]
  },
  {
   "cell_type": "code",
   "execution_count": 31,
   "metadata": {
    "collapsed": true
   },
   "outputs": [],
   "source": [
    "fig.savefig('./save/plt.png')"
   ]
  },
  {
   "cell_type": "code",
   "execution_count": null,
   "metadata": {
    "collapsed": true
   },
   "outputs": [],
   "source": []
  }
 ],
 "metadata": {
  "kernelspec": {
   "display_name": "Python 3",
   "language": "python",
   "name": "python3"
  },
  "language_info": {
   "codemirror_mode": {
    "name": "ipython",
    "version": 3
   },
   "file_extension": ".py",
   "mimetype": "text/x-python",
   "name": "python",
   "nbconvert_exporter": "python",
   "pygments_lexer": "ipython3",
   "version": "3.6.1"
  }
 },
 "nbformat": 4,
 "nbformat_minor": 2
}
