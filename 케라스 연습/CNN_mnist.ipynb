{
 "cells": [
  {
   "cell_type": "code",
   "execution_count": 1,
   "metadata": {},
   "outputs": [
    {
     "name": "stderr",
     "output_type": "stream",
     "text": [
      "Using TensorFlow backend.\n"
     ]
    }
   ],
   "source": [
    "from keras import backend as K\n",
    "from keras.models import Sequential\n",
    "from keras.layers.convolutional import Conv2D\n",
    "from keras.layers.convolutional import MaxPooling2D\n",
    "from keras.layers.core import Activation\n",
    "from keras.layers.core import Flatten\n",
    "from keras.layers.core import Dense\n",
    "from keras.datasets import mnist\n",
    "from keras.utils import np_utils\n",
    "from keras.optimizers import SGD, RMSprop, Adam\n",
    "import numpy as np\n",
    "import matplotlib.pyplot as plt"
   ]
  },
  {
   "cell_type": "code",
   "execution_count": 24,
   "metadata": {
    "collapsed": true
   },
   "outputs": [],
   "source": [
    "class Lenet:\n",
    "    @staticmethod\n",
    "    def build(input_shape, classes):\n",
    "        model = Sequential()\n",
    "        #CONV => RELU => POOL\n",
    "        model.add(Conv2D(20, kernel_size=5,padding=\"same\", input_shape=input_shape))\n",
    "        model.add(Activation(\"relu\"))\n",
    "        model.add(MaxPooling2D(pool_size=(2,2), strides=(2,2)))\n",
    "        #Flatten => RELU 계층\n",
    "        model.add(Flatten())\n",
    "        model.add(Dense(500))\n",
    "        model.add(Activation(\"relu\"))\n",
    "        #소프트맥스분류기\n",
    "        model.add(Dense(classes))\n",
    "        model.add(Activation(\"softmax\"))\n",
    "        return model"
   ]
  },
  {
   "cell_type": "code",
   "execution_count": 3,
   "metadata": {
    "collapsed": true
   },
   "outputs": [],
   "source": [
    "#신경망과 학습에 대한 설정\n",
    "NB_EPOCH = 20\n",
    "BATCH_SIZE = 128\n",
    "VERBOSE = 1\n",
    "OPTIMIZER = Adam()\n",
    "VALIDATION_SPLIT = 0.2\n",
    "IMG_ROWS, IMG_COLS = 28, 28 #입력 이미지 차원\n",
    "NB_CLASSES = 10 #출력 갯수 = 숫자의 갯수\n",
    "INPUT_SHAPE = (1, IMG_ROWS, IMG_COLS)"
   ]
  },
  {
   "cell_type": "code",
   "execution_count": 4,
   "metadata": {},
   "outputs": [],
   "source": [
    "#데이터 : 섞은 후에 학습 데이터와 테스트 데이터로 분할\n",
    "(X_train, Y_train), (X_test, Y_test) = mnist.load_data()"
   ]
  },
  {
   "cell_type": "code",
   "execution_count": 5,
   "metadata": {
    "collapsed": true
   },
   "outputs": [],
   "source": [
    "K.set_image_dim_ordering(\"th\")"
   ]
  },
  {
   "cell_type": "code",
   "execution_count": 6,
   "metadata": {
    "collapsed": true
   },
   "outputs": [],
   "source": [
    "#실수 형태로 지정하고 정규화\n",
    "X_train = X_train.astype('float32')\n",
    "X_test = X_test.astype('float32')\n",
    "X_train /= 255\n",
    "X_test /= 255"
   ]
  },
  {
   "cell_type": "code",
   "execution_count": 14,
   "metadata": {},
   "outputs": [
    {
     "name": "stdout",
     "output_type": "stream",
     "text": [
      "60000 train sample\n",
      "10000 test sample\n"
     ]
    }
   ],
   "source": [
    "#60000개 x [1 x 28 x 28]  형태의 입력을 CONVNET에 전달\n",
    "X_train = X_train[:,np.newaxis, :, :]\n",
    "X_test = X_test[:,np.newaxis, :, :]\n",
    "print(X_train.shape[0], 'train sample')\n",
    "print(X_test.shape[0], 'test sample')"
   ]
  },
  {
   "cell_type": "code",
   "execution_count": 16,
   "metadata": {},
   "outputs": [
    {
     "data": {
      "text/plain": [
       "(10000,)"
      ]
     },
     "execution_count": 16,
     "metadata": {},
     "output_type": "execute_result"
    }
   ],
   "source": [
    "Y_test.shape"
   ]
  },
  {
   "cell_type": "code",
   "execution_count": 17,
   "metadata": {
    "collapsed": true
   },
   "outputs": [],
   "source": [
    "#클래스 벡터를 이진 클래스 행렬로 변환\n",
    "Y_train = np_utils.to_categorical(Y_train, NB_CLASSES)\n",
    "Y_test = np_utils.to_categorical(Y_test, NB_CLASSES)"
   ]
  },
  {
   "cell_type": "code",
   "execution_count": 18,
   "metadata": {},
   "outputs": [
    {
     "data": {
      "text/plain": [
       "(10000, 10)"
      ]
     },
     "execution_count": 18,
     "metadata": {},
     "output_type": "execute_result"
    }
   ],
   "source": [
    "Y_test.shape"
   ]
  },
  {
   "cell_type": "code",
   "execution_count": 25,
   "metadata": {
    "collapsed": true
   },
   "outputs": [],
   "source": [
    "#옵티마이저 모델 초기화\n",
    "cnn = Lenet.build(input_shape=INPUT_SHAPE, classes=NB_CLASSES)"
   ]
  },
  {
   "cell_type": "code",
   "execution_count": 26,
   "metadata": {},
   "outputs": [],
   "source": [
    "cnn.compile(loss=\"categorical_crossentropy\", optimizer=OPTIMIZER, metrics=[\"accuracy\"])"
   ]
  },
  {
   "cell_type": "code",
   "execution_count": 29,
   "metadata": {},
   "outputs": [
    {
     "name": "stdout",
     "output_type": "stream",
     "text": [
      "_________________________________________________________________\n",
      "Layer (type)                 Output Shape              Param #   \n",
      "=================================================================\n",
      "conv2d_2 (Conv2D)            (None, 20, 28, 28)        520       \n",
      "_________________________________________________________________\n",
      "activation_4 (Activation)    (None, 20, 28, 28)        0         \n",
      "_________________________________________________________________\n",
      "max_pooling2d_2 (MaxPooling2 (None, 20, 14, 14)        0         \n",
      "_________________________________________________________________\n",
      "flatten_2 (Flatten)          (None, 3920)              0         \n",
      "_________________________________________________________________\n",
      "dense_3 (Dense)              (None, 500)               1960500   \n",
      "_________________________________________________________________\n",
      "activation_5 (Activation)    (None, 500)               0         \n",
      "_________________________________________________________________\n",
      "dense_4 (Dense)              (None, 10)                5010      \n",
      "_________________________________________________________________\n",
      "activation_6 (Activation)    (None, 10)                0         \n",
      "=================================================================\n",
      "Total params: 1,966,030\n",
      "Trainable params: 1,966,030\n",
      "Non-trainable params: 0\n",
      "_________________________________________________________________\n"
     ]
    }
   ],
   "source": [
    "cnn.summary()"
   ]
  },
  {
   "cell_type": "code",
   "execution_count": 30,
   "metadata": {},
   "outputs": [
    {
     "name": "stdout",
     "output_type": "stream",
     "text": [
      "Train on 48000 samples, validate on 12000 samples\n",
      "Epoch 1/20\n",
      "48000/48000 [==============================] - 169s - loss: 0.1969 - acc: 0.9401 - val_loss: 0.0706 - val_acc: 0.9790\n",
      "Epoch 2/20\n",
      "48000/48000 [==============================] - 164s - loss: 0.0560 - acc: 0.9828 - val_loss: 0.0542 - val_acc: 0.9833\n",
      "Epoch 3/20\n",
      "48000/48000 [==============================] - 168s - loss: 0.0357 - acc: 0.9890 - val_loss: 0.0494 - val_acc: 0.9847\n",
      "Epoch 4/20\n",
      "48000/48000 [==============================] - 164s - loss: 0.0248 - acc: 0.9924 - val_loss: 0.0515 - val_acc: 0.9846\n",
      "Epoch 5/20\n",
      "48000/48000 [==============================] - 167s - loss: 0.0163 - acc: 0.9952 - val_loss: 0.0497 - val_acc: 0.9862\n",
      "Epoch 6/20\n",
      "48000/48000 [==============================] - 163s - loss: 0.0114 - acc: 0.9962 - val_loss: 0.0464 - val_acc: 0.9872\n",
      "Epoch 7/20\n",
      "48000/48000 [==============================] - 169s - loss: 0.0095 - acc: 0.9970 - val_loss: 0.0556 - val_acc: 0.9862\n",
      "Epoch 8/20\n",
      "48000/48000 [==============================] - 167s - loss: 0.0061 - acc: 0.9982 - val_loss: 0.0520 - val_acc: 0.9872\n",
      "Epoch 9/20\n",
      "48000/48000 [==============================] - 169s - loss: 0.0062 - acc: 0.9979 - val_loss: 0.0655 - val_acc: 0.9833\n",
      "Epoch 10/20\n",
      "48000/48000 [==============================] - 187s - loss: 0.0069 - acc: 0.9979 - val_loss: 0.0541 - val_acc: 0.9870\n",
      "Epoch 11/20\n",
      "48000/48000 [==============================] - 176s - loss: 0.0062 - acc: 0.9980 - val_loss: 0.0536 - val_acc: 0.9873\n",
      "Epoch 12/20\n",
      "48000/48000 [==============================] - 169s - loss: 0.0027 - acc: 0.9992 - val_loss: 0.0522 - val_acc: 0.9882\n",
      "Epoch 13/20\n",
      "48000/48000 [==============================] - 165s - loss: 0.0026 - acc: 0.9991 - val_loss: 0.0665 - val_acc: 0.9856\n",
      "Epoch 14/20\n",
      "48000/48000 [==============================] - 167s - loss: 0.0045 - acc: 0.9986 - val_loss: 0.0523 - val_acc: 0.9873\n",
      "Epoch 15/20\n",
      "48000/48000 [==============================] - 165s - loss: 0.0033 - acc: 0.9989 - val_loss: 0.0608 - val_acc: 0.9860\n",
      "Epoch 16/20\n",
      "48000/48000 [==============================] - 169s - loss: 0.0040 - acc: 0.9987 - val_loss: 0.0604 - val_acc: 0.9873\n",
      "Epoch 17/20\n",
      "48000/48000 [==============================] - 165s - loss: 0.0014 - acc: 0.9996 - val_loss: 0.0556 - val_acc: 0.9877\n",
      "Epoch 18/20\n",
      "48000/48000 [==============================] - 1051s - loss: 0.0016 - acc: 0.9995 - val_loss: 0.0515 - val_acc: 0.9878\n",
      "Epoch 19/20\n",
      "48000/48000 [==============================] - 167s - loss: 0.0034 - acc: 0.9987 - val_loss: 0.0778 - val_acc: 0.9855\n",
      "Epoch 20/20\n",
      "48000/48000 [==============================] - 167s - loss: 0.0046 - acc: 0.9986 - val_loss: 0.0667 - val_acc: 0.9869\n"
     ]
    }
   ],
   "source": [
    "history = cnn.fit(X_train,Y_train, batch_size=BATCH_SIZE, epochs=NB_EPOCH, verbose=VERBOSE, validation_split=VALIDATION_SPLIT)"
   ]
  },
  {
   "cell_type": "code",
   "execution_count": 31,
   "metadata": {},
   "outputs": [
    {
     "name": "stdout",
     "output_type": "stream",
     "text": [
      " 9984/10000 [============================>.] - ETA: 0s"
     ]
    }
   ],
   "source": [
    "score = cnn.evaluate(X_test,Y_test, verbose=VERBOSE)"
   ]
  },
  {
   "cell_type": "code",
   "execution_count": 32,
   "metadata": {},
   "outputs": [
    {
     "name": "stdout",
     "output_type": "stream",
     "text": [
      "Test score :  0.0560338903872\n",
      "Test accuracy :  0.9875\n"
     ]
    }
   ],
   "source": [
    "print(\"Test score : \", score[0])\n",
    "print(\"Test accuracy : \", score[1])"
   ]
  },
  {
   "cell_type": "code",
   "execution_count": 33,
   "metadata": {},
   "outputs": [
    {
     "data": {
      "text/plain": [
       "dict_keys(['val_loss', 'val_acc', 'loss', 'acc'])"
      ]
     },
     "execution_count": 33,
     "metadata": {},
     "output_type": "execute_result"
    }
   ],
   "source": [
    "#히스토리에 있는 모든 데이터 나열\n",
    "history.history.keys()"
   ]
  },
  {
   "cell_type": "code",
   "execution_count": 35,
   "metadata": {},
   "outputs": [
    {
     "data": {
      "image/png": "[encoded data removed]",
      "text/plain": [
       "<matplotlib.figure.Figure at 0x20c8dda63c8>"
      ]
     },
     "metadata": {},
     "output_type": "display_data"
    }
   ],
   "source": [
    "#단순 정확도 히스토리 요약\n",
    "plt.plot(history.history['acc'])\n",
    "plt.plot(history.history['val_acc'])\n",
    "plt.title('model accuracy')\n",
    "plt.ylabel('accuracy')\n",
    "plt.xlabel('epoch')\n",
    "plt.legend(['train', 'test'], loc='upper left')\n",
    "gif = plt.gcf()\n",
    "plt.show()"
   ]
  },
  {
   "cell_type": "code",
   "execution_count": 36,
   "metadata": {
    "collapsed": true
   },
   "outputs": [],
   "source": [
    "gif.savefig('./save/acc.png')"
   ]
  },
  {
   "cell_type": "code",
   "execution_count": null,
   "metadata": {
    "collapsed": true
   },
   "outputs": [],
   "source": []
  }
 ],
 "metadata": {
  "kernelspec": {
   "display_name": "Python 3",
   "language": "python",
   "name": "python3"
  },
  "language_info": {
   "codemirror_mode": {
    "name": "ipython",
    "version": 3
   },
   "file_extension": ".py",
   "mimetype": "text/x-python",
   "name": "python",
   "nbconvert_exporter": "python",
   "pygments_lexer": "ipython3",
   "version": "3.6.1"
  }
 },
 "nbformat": 4,
 "nbformat_minor": 2
}
